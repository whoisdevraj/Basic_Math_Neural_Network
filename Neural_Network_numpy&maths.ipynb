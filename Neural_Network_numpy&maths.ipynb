{
 "cells": [
  {
   "cell_type": "markdown",
   "id": "cb673726-051c-456f-bb03-4a8a45cf0d46",
   "metadata": {},
   "source": [
    "## NEURAL NETWORK "
   ]
  },
  {
   "cell_type": "code",
   "execution_count": 1,
   "id": "503aef5a-3d66-4e88-abf4-6bec4c6d7f00",
   "metadata": {},
   "outputs": [],
   "source": [
    "import numpy as np\n",
    "import pandas as pd \n",
    "import matplotlib.pyplot as plt"
   ]
  },
  {
   "cell_type": "code",
   "execution_count": 12,
   "id": "3de03535-93ce-437f-9228-4183c4950177",
   "metadata": {},
   "outputs": [],
   "source": [
    "df= pd.read_csv(r\"C:\\Users\\devra\\Desktop\\Neural_Network\\DATA SET\\train.csv\")"
   ]
  },
  {
   "cell_type": "code",
   "execution_count": 13,
   "id": "8bb637e8-05f2-411a-9505-d2b0947c9990",
   "metadata": {},
   "outputs": [
    {
     "data": {
      "text/html": [
       "<div>\n",
       "<style scoped>\n",
       "    .dataframe tbody tr th:only-of-type {\n",
       "        vertical-align: middle;\n",
       "    }\n",
       "\n",
       "    .dataframe tbody tr th {\n",
       "        vertical-align: top;\n",
       "    }\n",
       "\n",
       "    .dataframe thead th {\n",
       "        text-align: right;\n",
       "    }\n",
       "</style>\n",
       "<table border=\"1\" class=\"dataframe\">\n",
       "  <thead>\n",
       "    <tr style=\"text-align: right;\">\n",
       "      <th></th>\n",
       "      <th>label</th>\n",
       "      <th>pixel0</th>\n",
       "      <th>pixel1</th>\n",
       "      <th>pixel2</th>\n",
       "      <th>pixel3</th>\n",
       "      <th>pixel4</th>\n",
       "      <th>pixel5</th>\n",
       "      <th>pixel6</th>\n",
       "      <th>pixel7</th>\n",
       "      <th>pixel8</th>\n",
       "      <th>...</th>\n",
       "      <th>pixel774</th>\n",
       "      <th>pixel775</th>\n",
       "      <th>pixel776</th>\n",
       "      <th>pixel777</th>\n",
       "      <th>pixel778</th>\n",
       "      <th>pixel779</th>\n",
       "      <th>pixel780</th>\n",
       "      <th>pixel781</th>\n",
       "      <th>pixel782</th>\n",
       "      <th>pixel783</th>\n",
       "    </tr>\n",
       "  </thead>\n",
       "  <tbody>\n",
       "    <tr>\n",
       "      <th>0</th>\n",
       "      <td>1</td>\n",
       "      <td>0</td>\n",
       "      <td>0</td>\n",
       "      <td>0</td>\n",
       "      <td>0</td>\n",
       "      <td>0</td>\n",
       "      <td>0</td>\n",
       "      <td>0</td>\n",
       "      <td>0</td>\n",
       "      <td>0</td>\n",
       "      <td>...</td>\n",
       "      <td>0</td>\n",
       "      <td>0</td>\n",
       "      <td>0</td>\n",
       "      <td>0</td>\n",
       "      <td>0</td>\n",
       "      <td>0</td>\n",
       "      <td>0</td>\n",
       "      <td>0</td>\n",
       "      <td>0</td>\n",
       "      <td>0</td>\n",
       "    </tr>\n",
       "    <tr>\n",
       "      <th>1</th>\n",
       "      <td>0</td>\n",
       "      <td>0</td>\n",
       "      <td>0</td>\n",
       "      <td>0</td>\n",
       "      <td>0</td>\n",
       "      <td>0</td>\n",
       "      <td>0</td>\n",
       "      <td>0</td>\n",
       "      <td>0</td>\n",
       "      <td>0</td>\n",
       "      <td>...</td>\n",
       "      <td>0</td>\n",
       "      <td>0</td>\n",
       "      <td>0</td>\n",
       "      <td>0</td>\n",
       "      <td>0</td>\n",
       "      <td>0</td>\n",
       "      <td>0</td>\n",
       "      <td>0</td>\n",
       "      <td>0</td>\n",
       "      <td>0</td>\n",
       "    </tr>\n",
       "    <tr>\n",
       "      <th>2</th>\n",
       "      <td>1</td>\n",
       "      <td>0</td>\n",
       "      <td>0</td>\n",
       "      <td>0</td>\n",
       "      <td>0</td>\n",
       "      <td>0</td>\n",
       "      <td>0</td>\n",
       "      <td>0</td>\n",
       "      <td>0</td>\n",
       "      <td>0</td>\n",
       "      <td>...</td>\n",
       "      <td>0</td>\n",
       "      <td>0</td>\n",
       "      <td>0</td>\n",
       "      <td>0</td>\n",
       "      <td>0</td>\n",
       "      <td>0</td>\n",
       "      <td>0</td>\n",
       "      <td>0</td>\n",
       "      <td>0</td>\n",
       "      <td>0</td>\n",
       "    </tr>\n",
       "    <tr>\n",
       "      <th>3</th>\n",
       "      <td>4</td>\n",
       "      <td>0</td>\n",
       "      <td>0</td>\n",
       "      <td>0</td>\n",
       "      <td>0</td>\n",
       "      <td>0</td>\n",
       "      <td>0</td>\n",
       "      <td>0</td>\n",
       "      <td>0</td>\n",
       "      <td>0</td>\n",
       "      <td>...</td>\n",
       "      <td>0</td>\n",
       "      <td>0</td>\n",
       "      <td>0</td>\n",
       "      <td>0</td>\n",
       "      <td>0</td>\n",
       "      <td>0</td>\n",
       "      <td>0</td>\n",
       "      <td>0</td>\n",
       "      <td>0</td>\n",
       "      <td>0</td>\n",
       "    </tr>\n",
       "    <tr>\n",
       "      <th>4</th>\n",
       "      <td>0</td>\n",
       "      <td>0</td>\n",
       "      <td>0</td>\n",
       "      <td>0</td>\n",
       "      <td>0</td>\n",
       "      <td>0</td>\n",
       "      <td>0</td>\n",
       "      <td>0</td>\n",
       "      <td>0</td>\n",
       "      <td>0</td>\n",
       "      <td>...</td>\n",
       "      <td>0</td>\n",
       "      <td>0</td>\n",
       "      <td>0</td>\n",
       "      <td>0</td>\n",
       "      <td>0</td>\n",
       "      <td>0</td>\n",
       "      <td>0</td>\n",
       "      <td>0</td>\n",
       "      <td>0</td>\n",
       "      <td>0</td>\n",
       "    </tr>\n",
       "  </tbody>\n",
       "</table>\n",
       "<p>5 rows × 785 columns</p>\n",
       "</div>"
      ],
      "text/plain": [
       "   label  pixel0  pixel1  pixel2  pixel3  pixel4  pixel5  pixel6  pixel7  \\\n",
       "0      1       0       0       0       0       0       0       0       0   \n",
       "1      0       0       0       0       0       0       0       0       0   \n",
       "2      1       0       0       0       0       0       0       0       0   \n",
       "3      4       0       0       0       0       0       0       0       0   \n",
       "4      0       0       0       0       0       0       0       0       0   \n",
       "\n",
       "   pixel8  ...  pixel774  pixel775  pixel776  pixel777  pixel778  pixel779  \\\n",
       "0       0  ...         0         0         0         0         0         0   \n",
       "1       0  ...         0         0         0         0         0         0   \n",
       "2       0  ...         0         0         0         0         0         0   \n",
       "3       0  ...         0         0         0         0         0         0   \n",
       "4       0  ...         0         0         0         0         0         0   \n",
       "\n",
       "   pixel780  pixel781  pixel782  pixel783  \n",
       "0         0         0         0         0  \n",
       "1         0         0         0         0  \n",
       "2         0         0         0         0  \n",
       "3         0         0         0         0  \n",
       "4         0         0         0         0  \n",
       "\n",
       "[5 rows x 785 columns]"
      ]
     },
     "execution_count": 13,
     "metadata": {},
     "output_type": "execute_result"
    }
   ],
   "source": [
    "df.head()"
   ]
  },
  {
   "cell_type": "code",
   "execution_count": 14,
   "id": "d226069c-a977-40ee-b8f2-44933bab26e3",
   "metadata": {},
   "outputs": [],
   "source": [
    "df = np.array(df)"
   ]
  },
  {
   "cell_type": "code",
   "execution_count": 42,
   "id": "bc86cd95-76c4-4ad8-8efe-e71c08ac19ee",
   "metadata": {},
   "outputs": [],
   "source": [
    "m, n = df.shape\n",
    "np.random.shuffle(df)\n",
    "\n",
    "data_div = df[0:1000].T\n",
    "Y_div= data_div[0]\n",
    "X_div = data_div[1:n]\n",
    "X_div = X_div / 255\n",
    "\n",
    "data_train = df[1000:m].T\n",
    "Y_train = data_train[0]\n",
    "X_train = data_train[1:n]\n",
    "X_train = X_train / 255\n"
   ]
  },
  {
   "cell_type": "markdown",
   "id": "f8a2e4c8-e765-424b-82b0-33f8e9504b99",
   "metadata": {},
   "source": [
    "pixel values typically range from 0 to 255, where 0 represents black and 255 represents white. Normalizing these values to be between 0 and 1 (by dividing by 255) can help the model converge faster during training and prevent issues like exploding gradients."
   ]
  },
  {
   "cell_type": "code",
   "execution_count": 43,
   "id": "e8e7162c-60ee-4b28-9c4e-f238181e234c",
   "metadata": {},
   "outputs": [
    {
     "data": {
      "text/plain": [
       "array([6, 8, 0, ..., 5, 7, 7], dtype=int64)"
      ]
     },
     "execution_count": 43,
     "metadata": {},
     "output_type": "execute_result"
    }
   ],
   "source": [
    "Y_train"
   ]
  },
  {
   "cell_type": "code",
   "execution_count": 44,
   "id": "1db19fdf-4f0a-4b62-9c27-ccc3a482f8ac",
   "metadata": {},
   "outputs": [
    {
     "data": {
      "text/plain": [
       "(784,)"
      ]
     },
     "execution_count": 44,
     "metadata": {},
     "output_type": "execute_result"
    }
   ],
   "source": [
    "X_train[:,0].shape"
   ]
  },
  {
   "cell_type": "code",
   "execution_count": 45,
   "id": "8c0f8600-38b3-4a88-9d6d-ab631383dbec",
   "metadata": {},
   "outputs": [],
   "source": [
    "def init_params():\n",
    "    W1 = np.random.rand(10, 784) - 0.5\n",
    "    b1 = np.random.rand(10, 1) - 0.5\n",
    "    W2 = np.random.rand(10, 10) - 0.5\n",
    "    b2 = np.random.rand(10, 1) - 0.5\n",
    "    return W1, b1, W2, b2\n",
    "\n",
    "def ReLU(Z):\n",
    "    return np.maximum(Z, 0)\n",
    "\n",
    "def softmax(Z):\n",
    "    A = np.exp(Z) / sum(np.exp(Z))\n",
    "    return A\n",
    "    \n",
    "def forward_prop(W1, b1, W2, b2, X):\n",
    "    Z1 = W1.dot(X) + b1\n",
    "    A1 = ReLU(Z1)\n",
    "    Z2 = W2.dot(A1) + b2\n",
    "    A2 = softmax(Z2)\n",
    "    return Z1, A1, Z2, A2\n",
    "\n",
    "def ReLU_deriv(Z):\n",
    "    return Z > 0\n",
    "\n",
    "def one_hot(Y):\n",
    "    one_hot_Y = np.zeros((Y.size, Y.max() + 1))\n",
    "    one_hot_Y[np.arange(Y.size), Y] = 1\n",
    "    one_hot_Y = one_hot_Y.T\n",
    "    return one_hot_Y\n",
    "\n",
    "def backward_prop(Z1, A1, Z2, A2, W1, W2, X, Y):\n",
    "    one_hot_Y = one_hot(Y)\n",
    "    dZ2 = A2 - one_hot_Y\n",
    "    dW2 = 1 / m * dZ2.dot(A1.T)\n",
    "    db2 = 1 / m * np.sum(dZ2)\n",
    "    dZ1 = W2.T.dot(dZ2) * ReLU_deriv(Z1)\n",
    "    dW1 = 1 / m * dZ1.dot(X.T)\n",
    "    db1 = 1 / m * np.sum(dZ1)\n",
    "    return dW1, db1, dW2, db2\n",
    "\n",
    "def update_params(W1, b1, W2, b2, dW1, db1, dW2, db2, alpha):\n",
    "    W1 = W1 - alpha * dW1\n",
    "    b1 = b1 - alpha * db1    \n",
    "    W2 = W2 - alpha * dW2  \n",
    "    b2 = b2 - alpha * db2    \n",
    "    return W1, b1, W2, b2\n",
    "\n",
    "def get_predictions(A2):\n",
    "    return np.argmax(A2, 0)\n",
    "\n",
    "def get_accuracy(predictions, Y):\n",
    "    print(predictions, Y)\n",
    "    return np.sum(predictions == Y) / Y.size\n",
    "\n",
    "def gradient_descent(X, Y, alpha, iterations):\n",
    "    W1, b1, W2, b2 = init_params()\n",
    "    for i in range(iterations):\n",
    "        Z1, A1, Z2, A2 = forward_prop(W1, b1, W2, b2, X)\n",
    "        dW1, db1, dW2, db2 = backward_prop(Z1, A1, Z2, A2, W1, W2, X, Y)\n",
    "        W1, b1, W2, b2 = update_params(W1, b1, W2, b2, dW1, db1, dW2, db2, alpha)\n",
    "        if i % 10 == 0:\n",
    "            print(\"Iteration: \", i)\n",
    "            predictions = get_predictions(A2)\n",
    "            print(get_accuracy(predictions, Y))\n",
    "    return W1, b1, W2, b2"
   ]
  },
  {
   "cell_type": "code",
   "execution_count": 46,
   "id": "83a5fcb4-17a0-44ad-8e23-4bfb520fa433",
   "metadata": {},
   "outputs": [
    {
     "name": "stdout",
     "output_type": "stream",
     "text": [
      "Iteration:  0\n",
      "[4 6 6 ... 5 8 4] [6 8 0 ... 5 7 7]\n",
      "0.12663414634146342\n",
      "Iteration:  10\n",
      "[6 7 6 ... 5 7 0] [6 8 0 ... 5 7 7]\n",
      "0.1815609756097561\n",
      "Iteration:  20\n",
      "[6 7 1 ... 5 7 0] [6 8 0 ... 5 7 7]\n",
      "0.2569268292682927\n",
      "Iteration:  30\n",
      "[6 7 1 ... 5 7 0] [6 8 0 ... 5 7 7]\n",
      "0.3225609756097561\n",
      "Iteration:  40\n",
      "[6 8 7 ... 5 7 0] [6 8 0 ... 5 7 7]\n",
      "0.3912926829268293\n",
      "Iteration:  50\n",
      "[6 8 7 ... 5 7 0] [6 8 0 ... 5 7 7]\n",
      "0.4465609756097561\n",
      "Iteration:  60\n",
      "[6 8 7 ... 5 7 9] [6 8 0 ... 5 7 7]\n",
      "0.4956829268292683\n",
      "Iteration:  70\n",
      "[6 8 7 ... 5 7 9] [6 8 0 ... 5 7 7]\n",
      "0.5370975609756098\n",
      "Iteration:  80\n",
      "[6 8 9 ... 5 7 9] [6 8 0 ... 5 7 7]\n",
      "0.5716097560975609\n",
      "Iteration:  90\n",
      "[6 8 9 ... 5 7 9] [6 8 0 ... 5 7 7]\n",
      "0.600390243902439\n",
      "Iteration:  100\n",
      "[6 8 9 ... 5 7 9] [6 8 0 ... 5 7 7]\n",
      "0.6253658536585366\n",
      "Iteration:  110\n",
      "[6 8 9 ... 5 7 9] [6 8 0 ... 5 7 7]\n",
      "0.6454146341463415\n",
      "Iteration:  120\n",
      "[6 8 5 ... 5 7 7] [6 8 0 ... 5 7 7]\n",
      "0.6622439024390244\n",
      "Iteration:  130\n",
      "[6 8 5 ... 5 7 7] [6 8 0 ... 5 7 7]\n",
      "0.679609756097561\n",
      "Iteration:  140\n",
      "[6 8 5 ... 5 7 7] [6 8 0 ... 5 7 7]\n",
      "0.6941219512195121\n",
      "Iteration:  150\n",
      "[2 8 5 ... 5 7 7] [6 8 0 ... 5 7 7]\n",
      "0.7069756097560975\n",
      "Iteration:  160\n",
      "[2 8 5 ... 5 7 7] [6 8 0 ... 5 7 7]\n",
      "0.7193414634146341\n",
      "Iteration:  170\n",
      "[6 8 5 ... 5 7 7] [6 8 0 ... 5 7 7]\n",
      "0.7305853658536585\n",
      "Iteration:  180\n",
      "[6 8 5 ... 5 7 7] [6 8 0 ... 5 7 7]\n",
      "0.7409268292682927\n",
      "Iteration:  190\n",
      "[6 8 5 ... 5 7 7] [6 8 0 ... 5 7 7]\n",
      "0.75\n",
      "Iteration:  200\n",
      "[6 8 5 ... 5 7 7] [6 8 0 ... 5 7 7]\n",
      "0.757390243902439\n",
      "Iteration:  210\n",
      "[6 8 5 ... 5 7 7] [6 8 0 ... 5 7 7]\n",
      "0.7654878048780488\n",
      "Iteration:  220\n",
      "[6 8 5 ... 5 7 7] [6 8 0 ... 5 7 7]\n",
      "0.7715609756097561\n",
      "Iteration:  230\n",
      "[5 8 5 ... 5 7 7] [6 8 0 ... 5 7 7]\n",
      "0.7779756097560976\n",
      "Iteration:  240\n",
      "[5 3 5 ... 5 7 7] [6 8 0 ... 5 7 7]\n",
      "0.7839024390243903\n",
      "Iteration:  250\n",
      "[5 3 5 ... 5 7 7] [6 8 0 ... 5 7 7]\n",
      "0.7885853658536586\n",
      "Iteration:  260\n",
      "[5 3 5 ... 5 7 7] [6 8 0 ... 5 7 7]\n",
      "0.793219512195122\n",
      "Iteration:  270\n",
      "[5 3 5 ... 5 7 7] [6 8 0 ... 5 7 7]\n",
      "0.7973902439024391\n",
      "Iteration:  280\n",
      "[5 3 5 ... 5 7 7] [6 8 0 ... 5 7 7]\n",
      "0.8015121951219513\n",
      "Iteration:  290\n",
      "[5 3 5 ... 5 7 7] [6 8 0 ... 5 7 7]\n",
      "0.8045365853658537\n",
      "Iteration:  300\n",
      "[5 3 5 ... 5 7 7] [6 8 0 ... 5 7 7]\n",
      "0.807829268292683\n",
      "Iteration:  310\n",
      "[5 3 5 ... 5 7 7] [6 8 0 ... 5 7 7]\n",
      "0.8109512195121952\n",
      "Iteration:  320\n",
      "[5 3 5 ... 5 7 7] [6 8 0 ... 5 7 7]\n",
      "0.8144146341463414\n",
      "Iteration:  330\n",
      "[5 3 5 ... 5 7 7] [6 8 0 ... 5 7 7]\n",
      "0.8172926829268292\n",
      "Iteration:  340\n",
      "[5 3 5 ... 5 7 7] [6 8 0 ... 5 7 7]\n",
      "0.8202195121951219\n",
      "Iteration:  350\n",
      "[5 3 5 ... 5 7 7] [6 8 0 ... 5 7 7]\n",
      "0.823\n",
      "Iteration:  360\n",
      "[5 3 5 ... 5 7 7] [6 8 0 ... 5 7 7]\n",
      "0.8252926829268292\n",
      "Iteration:  370\n",
      "[5 3 5 ... 5 7 7] [6 8 0 ... 5 7 7]\n",
      "0.8279024390243902\n",
      "Iteration:  380\n",
      "[5 3 5 ... 5 7 7] [6 8 0 ... 5 7 7]\n",
      "0.830170731707317\n",
      "Iteration:  390\n",
      "[5 3 5 ... 5 7 7] [6 8 0 ... 5 7 7]\n",
      "0.8322195121951219\n",
      "Iteration:  400\n",
      "[5 3 5 ... 5 7 7] [6 8 0 ... 5 7 7]\n",
      "0.8340487804878048\n",
      "Iteration:  410\n",
      "[5 3 5 ... 5 7 7] [6 8 0 ... 5 7 7]\n",
      "0.8355853658536585\n",
      "Iteration:  420\n",
      "[5 3 5 ... 5 7 7] [6 8 0 ... 5 7 7]\n",
      "0.8377073170731707\n",
      "Iteration:  430\n",
      "[5 3 5 ... 5 7 7] [6 8 0 ... 5 7 7]\n",
      "0.8393170731707317\n",
      "Iteration:  440\n",
      "[5 3 5 ... 5 7 7] [6 8 0 ... 5 7 7]\n",
      "0.8409024390243902\n",
      "Iteration:  450\n",
      "[5 3 5 ... 5 7 7] [6 8 0 ... 5 7 7]\n",
      "0.8422195121951219\n",
      "Iteration:  460\n",
      "[5 3 5 ... 5 7 7] [6 8 0 ... 5 7 7]\n",
      "0.8433170731707317\n",
      "Iteration:  470\n",
      "[5 3 5 ... 5 7 7] [6 8 0 ... 5 7 7]\n",
      "0.8444878048780488\n",
      "Iteration:  480\n",
      "[5 8 5 ... 5 7 7] [6 8 0 ... 5 7 7]\n",
      "0.8459512195121951\n",
      "Iteration:  490\n",
      "[5 8 5 ... 5 7 7] [6 8 0 ... 5 7 7]\n",
      "0.8470731707317073\n"
     ]
    }
   ],
   "source": [
    "W1, b1, W2, b2 = gradient_descent(X_train, Y_train, 0.10, 500)"
   ]
  },
  {
   "cell_type": "code",
   "execution_count": 50,
   "id": "9c941866-a70b-483d-aa10-80120225b917",
   "metadata": {},
   "outputs": [],
   "source": [
    "def make_predictions(X, W1, b1, W2, b2):\n",
    "    _, _, _, A2 = forward_prop(W1, b1, W2, b2, X)\n",
    "    predictions = get_predictions(A2)\n",
    "    return predictions\n",
    "\n",
    "def test_prediction(index, W1, b1, W2, b2):\n",
    "    current_image = X_train[:, index, None]\n",
    "    prediction = make_predictions(X_train[:, index, None], W1, b1, W2, b2)\n",
    "    label = Y_train[index]\n",
    "    print(\"Prediction: \", prediction)\n",
    "    print(\"Label: \", label)\n",
    "    \n",
    "    current_image = current_image.reshape((28, 28)) * 255\n",
    "    plt.gray()\n",
    "    plt.imshow(current_image, interpolation='nearest')\n",
    "    plt.show()"
   ]
  },
  {
   "cell_type": "code",
   "execution_count": 51,
   "id": "366f6700-2d39-468f-b7a4-b41f88907022",
   "metadata": {},
   "outputs": [
    {
     "name": "stdout",
     "output_type": "stream",
     "text": [
      "Prediction:  [6]\n",
      "Label:  6\n"
     ]
    },
    {
     "data": {
      "image/png": "[encoded data removed]",
      "text/plain": [
       "<Figure size 640x480 with 1 Axes>"
      ]
     },
     "metadata": {},
     "output_type": "display_data"
    }
   ],
   "source": [
    "test_prediction(3, W1, b1, W2, b2)"
   ]
  },
  {
   "cell_type": "code",
   "execution_count": 52,
   "id": "c7b4a4d2-5169-433b-8ac0-90b23b77646c",
   "metadata": {},
   "outputs": [
    {
     "name": "stdout",
     "output_type": "stream",
     "text": [
      "Prediction:  [3]\n",
      "Label:  5\n"
     ]
    },
    {
     "data": {
      "image/png": "[encoded data removed]",
      "text/plain": [
       "<Figure size 640x480 with 1 Axes>"
      ]
     },
     "metadata": {},
     "output_type": "display_data"
    }
   ],
   "source": [
    "test_prediction(6, W1, b1, W2, b2)"
   ]
  },
  {
   "cell_type": "code",
   "execution_count": 55,
   "id": "49937361-827b-4bfb-8805-d70ae05dbac6",
   "metadata": {},
   "outputs": [
    {
     "name": "stdout",
     "output_type": "stream",
     "text": [
      "Prediction:  [4]\n",
      "Label:  4\n"
     ]
    },
    {
     "data": {
      "image/png": "[encoded data removed]",
      "text/plain": [
       "<Figure size 640x480 with 1 Axes>"
      ]
     },
     "metadata": {},
     "output_type": "display_data"
    }
   ],
   "source": [
    "test_prediction(8, W1, b1, W2, b2)"
   ]
  },
  {
   "cell_type": "code",
   "execution_count": 56,
   "id": "5405d9dd-d095-49b0-9469-4917e31a0e84",
   "metadata": {},
   "outputs": [
    {
     "name": "stdout",
     "output_type": "stream",
     "text": [
      "[1 8 9 9 6 9 6 2 5 8 7 0 0 6 5 3 0 0 9 2 9 4 0 5 7 0 8 7 2 1 3 1 9 5 0 6 3\n",
      " 9 4 7 0 0 9 1 7 9 4 1 3 1 8 3 1 7 3 8 1 7 9 5 9 7 3 4 5 3 1 2 8 8 7 2 8 3\n",
      " 5 4 6 1 7 8 6 5 9 5 0 9 3 1 0 7 1 4 7 0 6 5 3 6 9 2 6 0 7 3 5 2 1 2 5 5 9\n",
      " 9 0 3 1 8 2 5 1 4 7 0 1 8 7 5 2 7 5 0 7 2 4 1 6 7 9 5 9 8 7 3 5 0 1 3 8 4\n",
      " 0 1 6 5 6 2 1 0 3 4 4 4 7 7 2 9 9 8 0 0 2 1 8 6 3 4 8 8 6 9 8 4 9 2 8 2 3\n",
      " 7 7 1 2 0 2 7 4 5 9 1 8 1 5 9 3 6 6 1 9 8 2 1 3 2 4 9 6 2 5 3 0 9 4 8 9 3\n",
      " 7 0 9 8 4 3 0 6 4 6 5 4 0 2 7 4 6 4 4 7 0 8 5 3 6 3 3 7 8 3 9 3 0 0 7 3 8\n",
      " 7 5 7 9 2 6 9 4 5 4 9 3 1 7 2 4 6 0 5 1 0 2 0 5 8 3 0 8 0 5 3 2 0 1 6 0 8\n",
      " 2 3 9 7 4 5 6 2 5 8 2 9 2 7 9 6 7 4 9 3 3 7 6 7 7 6 9 6 6 9 3 8 3 9 1 2 5\n",
      " 7 9 8 0 7 5 7 6 6 5 6 7 9 0 6 9 1 7 8 1 8 8 1 3 7 4 2 1 5 3 2 9 5 8 6 1 2\n",
      " 5 3 9 7 8 1 5 7 4 7 5 7 7 2 7 6 3 8 7 1 8 5 4 4 1 2 6 9 4 1 1 7 3 4 5 9 6\n",
      " 3 5 1 5 0 3 3 0 9 2 9 6 9 2 2 0 1 3 2 4 5 6 0 0 2 0 4 3 1 7 2 1 1 2 0 6 1\n",
      " 3 1 2 4 4 5 5 7 0 3 1 0 9 1 5 8 5 2 6 1 9 1 2 3 9 3 3 5 6 5 7 5 8 1 7 9 9\n",
      " 9 9 0 4 6 8 9 4 4 3 8 1 0 7 2 2 1 6 0 1 5 9 6 8 7 4 2 1 1 0 5 5 1 4 1 7 8\n",
      " 6 1 0 1 9 8 4 0 6 4 8 9 7 8 4 7 8 9 7 2 3 2 8 2 5 3 1 7 3 0 7 0 9 4 4 2 8\n",
      " 2 3 7 9 7 6 9 7 7 0 2 6 9 7 3 9 4 3 1 7 3 7 3 5 7 5 5 2 0 8 4 7 1 7 3 6 4\n",
      " 5 7 2 4 2 1 4 6 4 7 3 9 9 3 2 5 5 5 0 4 0 5 3 6 7 2 2 8 2 5 1 4 1 9 7 5 9\n",
      " 5 6 9 0 8 2 6 0 5 3 1 8 9 9 9 9 4 3 5 2 6 7 6 0 3 5 5 5 8 3 2 8 3 2 3 3 9\n",
      " 9 1 7 2 3 0 3 0 6 1 1 7 1 2 8 2 8 9 9 3 4 1 5 2 1 2 0 6 0 9 0 9 8 8 8 8 2\n",
      " 0 1 9 1 9 6 3 7 3 0 3 9 6 8 4 1 4 8 7 1 8 0 3 5 9 8 3 2 2 7 0 2 1 0 4 0 8\n",
      " 0 3 3 0 4 7 9 7 0 5 4 1 8 7 8 1 7 9 5 2 7 7 5 5 0 1 9 7 9 6 1 6 6 8 7 3 8\n",
      " 4 7 5 6 4 0 6 0 3 9 9 7 0 8 6 0 3 8 2 1 7 6 5 0 8 4 3 4 5 0 8 7 2 8 7 2 3\n",
      " 4 0 4 4 3 0 3 4 0 5 1 6 8 6 7 1 0 5 0 1 7 1 8 4 8 1 9 0 7 3 6 3 8 5 6 9 2\n",
      " 1 9 6 2 1 4 3 6 3 8 5 0 5 0 8 1 7 3 4 5 2 7 3 9 9 8 2 8 0 9 6 0 3 7 8 3 1\n",
      " 8 2 3 2 4 7 8 9 1 0 2 3 3 4 9 9 1 1 1 5 7 3 1 0 3 2 9 4 4 1 0 1 1 6 7 1 7\n",
      " 4 3 2 6 3 4 8 0 0 3 5 2 6 1 8 1 4 1 9 8 5 9 6 7 4 8 1 0 1 0 5 2 6 3 8 0 3\n",
      " 9 3 9 2 0 6 9 3 1 2 5 3 6 3 6 6 9 5 1 6 7 8 0 9 9 6 8 7 0 0 0 1 2 7 2 0 3\n",
      " 1] [1 7 9 9 6 9 6 8 5 2 7 0 0 6 5 3 0 6 9 3 9 4 0 5 7 0 3 7 5 1 3 1 4 5 0 6 3\n",
      " 9 4 7 0 0 9 1 7 2 8 1 3 1 2 3 1 7 3 5 1 7 9 5 7 7 9 4 5 3 1 2 8 8 7 2 2 3\n",
      " 3 4 6 1 7 8 6 5 8 8 0 9 3 1 0 7 1 4 7 0 6 0 3 6 4 2 6 0 7 3 8 2 1 1 5 9 1\n",
      " 9 0 3 1 9 6 5 1 4 7 0 1 8 7 5 2 7 5 0 7 8 4 1 6 7 9 3 4 8 7 3 8 0 1 3 8 4\n",
      " 0 1 6 5 2 2 1 0 3 4 4 4 7 7 8 3 9 8 0 0 2 1 8 6 3 4 6 8 6 9 8 4 4 8 8 2 3\n",
      " 7 7 1 2 0 2 7 4 5 9 1 8 8 5 7 3 6 6 1 9 1 2 8 5 2 8 8 3 2 5 3 0 9 4 8 9 3\n",
      " 7 0 9 8 4 3 0 2 2 6 5 4 0 2 4 9 6 4 4 7 0 8 5 3 6 3 3 7 8 3 9 3 0 0 7 3 8\n",
      " 7 5 7 9 2 6 9 6 5 9 9 3 1 7 2 5 6 0 5 1 0 2 0 5 8 3 0 9 0 1 8 2 0 1 6 0 8\n",
      " 2 9 9 7 4 5 6 2 2 8 2 9 2 7 9 5 7 9 9 3 3 7 6 7 7 6 9 6 6 9 3 8 3 9 1 2 5\n",
      " 5 5 8 0 7 5 7 6 6 5 6 7 9 5 6 9 1 7 8 1 8 8 1 3 7 4 8 1 0 3 3 9 5 8 4 1 2\n",
      " 5 3 9 3 8 1 3 7 4 7 3 7 7 2 7 2 3 8 7 1 9 5 4 4 1 8 6 9 3 1 1 7 3 4 5 9 0\n",
      " 3 5 3 8 0 3 3 0 9 2 9 6 9 4 2 0 1 3 2 4 5 5 0 0 2 0 4 3 1 7 2 1 1 6 0 6 1\n",
      " 3 1 8 4 4 5 5 9 0 3 1 0 9 1 5 8 5 2 6 1 9 1 2 3 9 3 3 5 6 5 7 3 8 1 7 4 8\n",
      " 9 9 0 4 6 6 9 4 4 3 8 1 0 7 2 2 1 6 0 1 0 9 6 8 7 4 2 1 1 0 5 5 1 4 1 7 8\n",
      " 6 1 0 1 7 8 4 0 6 4 5 9 7 8 4 7 8 9 7 2 3 2 8 2 8 3 1 7 3 0 7 0 4 4 4 2 8\n",
      " 2 3 7 9 7 6 9 7 7 0 2 6 9 7 3 9 4 3 1 9 3 7 5 5 7 5 5 2 0 8 4 7 1 7 2 6 7\n",
      " 5 7 2 4 2 1 4 6 4 9 3 9 9 2 2 5 2 5 0 9 0 8 9 6 7 2 6 4 2 5 1 4 1 9 7 5 9\n",
      " 5 6 9 8 8 2 6 0 5 3 1 8 9 9 9 9 5 3 3 2 9 7 6 0 3 8 5 2 2 3 2 8 3 2 3 3 7\n",
      " 9 1 7 2 1 0 3 0 6 1 1 7 1 2 8 7 2 7 9 3 4 1 5 2 1 6 0 6 0 9 0 9 8 9 8 8 3\n",
      " 0 5 9 4 9 6 3 7 3 0 3 9 6 7 4 1 4 8 7 1 8 6 3 5 9 8 3 2 6 7 0 2 1 0 4 0 8\n",
      " 0 3 3 0 4 9 4 7 0 5 4 1 8 7 8 1 7 9 5 2 7 7 5 5 0 1 4 7 9 6 1 6 6 8 7 3 1\n",
      " 6 7 5 2 4 0 5 0 3 9 9 7 0 8 6 0 3 5 2 1 7 6 5 0 8 4 3 4 3 0 5 3 2 8 7 2 3\n",
      " 4 0 4 4 3 0 3 9 0 2 1 6 8 6 7 1 0 5 0 1 7 1 8 4 8 1 9 0 7 3 6 3 8 5 8 9 2\n",
      " 1 9 6 2 1 4 3 6 3 8 5 0 8 0 8 1 7 0 4 5 2 7 3 9 9 8 2 8 0 9 6 0 3 7 8 3 1\n",
      " 8 2 3 2 4 8 8 9 1 5 2 3 5 2 4 7 1 1 1 8 7 3 1 0 3 8 9 4 4 1 0 1 1 6 7 1 7\n",
      " 4 5 0 6 3 4 8 0 0 3 5 4 6 1 8 4 4 1 9 8 5 9 6 7 5 2 1 0 1 0 3 2 6 3 8 0 8\n",
      " 7 3 9 2 0 6 9 3 1 2 5 3 6 3 6 6 9 5 1 6 7 8 0 9 9 6 8 7 2 0 4 1 2 7 2 0 3\n",
      " 1]\n"
     ]
    },
    {
     "data": {
      "text/plain": [
       "0.844"
      ]
     },
     "execution_count": 56,
     "metadata": {},
     "output_type": "execute_result"
    }
   ],
   "source": [
    "div_predictions = make_predictions(X_div, W1, b1, W2, b2)\n",
    "get_accuracy(div_predictions, Y_div)"
   ]
  },
  {
   "cell_type": "markdown",
   "id": "b943ff09-f627-4162-89d0-d0be6e74470c",
   "metadata": {},
   "source": []
  }
 ],
 "metadata": {
  "kernelspec": {
   "display_name": "Python 3 (ipykernel)",
   "language": "python",
   "name": "python3"
  },
  "language_info": {
   "codemirror_mode": {
    "name": "ipython",
    "version": 3
   },
   "file_extension": ".py",
   "mimetype": "text/x-python",
   "name": "python",
   "nbconvert_exporter": "python",
   "pygments_lexer": "ipython3",
   "version": "3.11.7"
  }
 },
 "nbformat": 4,
 "nbformat_minor": 5
}
